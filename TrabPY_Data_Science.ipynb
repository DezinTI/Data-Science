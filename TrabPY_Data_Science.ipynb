{
  "nbformat": 4,
  "nbformat_minor": 0,
  "metadata": {
    "colab": {
      "provenance": [],
      "toc_visible": true,
      "mount_file_id": "1c4244iBHhmdpUzJVTKjnqeKgJNBdGY5K",
      "authorship_tag": "ABX9TyPtKMTk865im90Z1V5AZNcH",
      "include_colab_link": true
    },
    "kernelspec": {
      "name": "python3",
      "display_name": "Python 3"
    },
    "language_info": {
      "name": "python"
    }
  },
  "cells": [
    {
      "cell_type": "markdown",
      "metadata": {
        "id": "view-in-github",
        "colab_type": "text"
      },
      "source": [
        "<a href=\"https://colab.research.google.com/github/DezinTI/Data-Science/blob/main/TrabPY_Data_Science.ipynb\" target=\"_parent\"><img src=\"https://colab.research.google.com/assets/colab-badge.svg\" alt=\"Open In Colab\"/></a>"
      ]
    },
    {
      "cell_type": "markdown",
      "source": [
        "📘 Explicação da Lógica do Trabalho\n",
        "Este trabalho tem como objetivo avaliar a saída de um modelo de classificação binária com base na probabilidade da classe positiva. A proposta é criar um gráfico que represente a distribuição populacional por faixas de probabilidade, permitindo a definição de pontos de corte para tomada de decisão.\n",
        "🔍 Etapas do processo:\n",
        "- Simulação de dados\n",
        "Geramos uma base genérica com probabilidades (prob_pos) e rótulos reais (target) para simular a saída de um modelo binário.\n",
        "- Distribuição por faixas\n",
        "Dividimos os dados em faixas de probabilidade (ex: 0–10%, 10–20%, etc.) usando um step customizável. Calculamos o percentual populacional em cada faixa.\n",
        "- Visualização com histogramas\n",
        "Criamos um gráfico com barras azuis para a população geral e vermelhas para os casos positivos, lado a lado, facilitando a leitura visual.\n",
        "- Definição dos pontos de corte\n",
        "Estabelecemos dois limites:\n",
        "- Abaixo do corte inferior → classificado como negativo\n",
        "- Acima do corte superior → classificado como positivo\n",
        "- Entre os cortes → enviado para análise manual\n",
        "- Avaliação do modelo\n",
        "Calculamos métricas como acurácia, recall e precisão para entender os erros e justificar os cortes. O objetivo é minimizar a perda de casos positivos e evitar falsos negativos.\n",
        "\n"
      ],
      "metadata": {
        "id": "NGfHoN00H2yo"
      }
    },
    {
      "cell_type": "markdown",
      "source": [
        "# Importando as bibliotecas:"
      ],
      "metadata": {
        "id": "0uUl_Z_suf72"
      }
    },
    {
      "cell_type": "code",
      "execution_count": 32,
      "metadata": {
        "id": "bZBtx4N4oXAg"
      },
      "outputs": [],
      "source": [
        "# 1) Importações e configuração inicial\n",
        "# Importando as bibliotecas necessárias\n",
        "\n",
        "import pandas as pd   # Biblioteca Pandas, usada para manipulação de tabelas e DataFrames\n",
        "import numpy as np    # Biblioteca NumPy, usada para cálculos matemáticos, vetores e geração de dados aleatórios\n",
        "import matplotlib.pyplot as plt  # Biblioteca Matplotlib, usada para criar gráficos customizados\n",
        "import seaborn as sns  # Biblioteca Seaborn, baseada no Matplotlib, facilita a criação de gráficos estatísticos\n",
        "\n",
        "# Abaixo estão as bibliotecas do Scikit-Learn (sklearn), muito usadas em Machine Learning:\n",
        "\n",
        "from sklearn.model_selection import train_test_split, GridSearchCV\n",
        "# train_test_split  separa a base em dados de treino e teste\n",
        "# GridSearchCV  faz busca de hiperparâmetros (testa várias combinações e escolhe a melhor)\n",
        "\n",
        "from sklearn.feature_extraction.text import TfidfVectorizer\n",
        "# TfidfVectorizer  transforma textos em números\n",
        "\n",
        "from sklearn.linear_model import LogisticRegression\n",
        "# LogisticRegression  modelo estatístico simples e eficiente para classificação binária\n",
        "\n",
        "from sklearn.ensemble import RandomForestClassifier\n",
        "# RandomForestClassifier  modelo mais robusto, baseado em árvores de decisão, usado para classificação\n",
        "\n",
        "from sklearn.metrics import (\n",
        "    accuracy_score, precision_score, recall_score, f1_score,\n",
        "    roc_auc_score, average_precision_score,\n",
        "    roc_curve, precision_recall_curve\n",
        ")\n",
        "# accuracy_score  mede a acurácia (taxa de acertos)\n",
        "# precision_score  mede a precisão (quando digo que é positivo, quantos realmente são?)\n",
        "# recall_score  mede o recall (dos positivos reais, quantos acertei?)\n",
        "# f1_score  média harmônica entre precisão e recall (bom para bases desbalanceadas)\n",
        "# roc_auc_score  mede a área sob a curva ROC (avalia separação entre classes)\n",
        "# average_precision_score  mede a área sob a curva PR (bom quando classes estão desbalanceadas)\n",
        "# roc_curve  gera pontos da curva ROC\n",
        "# precision_recall_curve  gera pontos da curva Precisão-Recall\n",
        "\n",
        "# Configuração visual padrão do Seaborn (fundo branco com grid)\n",
        "sns.set(style=\"whitegrid\")\n"
      ]
    },
    {
      "cell_type": "markdown",
      "source": [
        "#Criando os dados \"random\""
      ],
      "metadata": {
        "id": "RkhpBhpuujf8"
      }
    },
    {
      "cell_type": "code",
      "source": [
        "# Utilizando a biblioteca \"NUMPY\", para gerar dados random\n",
        "\n",
        "np.random.rand(1000)  # sem seed  resultados diferentes a cada execução\n",
        "\n",
        "# ou com seed\n",
        "\n",
        "# np.random.seed(123) resultados iguais a cada execução\n",
        "\n",
        "df= pd.DataFrame({\n",
        "    'prob_pos': np.random.rand(1000), #probabilidade positiva\n",
        "\n",
        "    'target' : np.random.choice([0,1], size=1000, p=[0.7, 0.3]) # retorno Real\n",
        "})\n",
        "\n",
        "df.head()"
      ],
      "metadata": {
        "colab": {
          "base_uri": "https://localhost:8080/",
          "height": 206
        },
        "id": "2xIFICPMpI-O",
        "outputId": "8748c76c-4f39-47ee-f51c-2919e8fe663c"
      },
      "execution_count": 23,
      "outputs": [
        {
          "output_type": "execute_result",
          "data": {
            "text/plain": [
              "   prob_pos  target\n",
              "0  0.593217       0\n",
              "1  0.304188       1\n",
              "2  0.001730       1\n",
              "3  0.753044       0\n",
              "4  0.127895       0"
            ],
            "text/html": [
              "\n",
              "  <div id=\"df-8bb2431b-3036-4610-ba3e-f54dea89035a\" class=\"colab-df-container\">\n",
              "    <div>\n",
              "<style scoped>\n",
              "    .dataframe tbody tr th:only-of-type {\n",
              "        vertical-align: middle;\n",
              "    }\n",
              "\n",
              "    .dataframe tbody tr th {\n",
              "        vertical-align: top;\n",
              "    }\n",
              "\n",
              "    .dataframe thead th {\n",
              "        text-align: right;\n",
              "    }\n",
              "</style>\n",
              "<table border=\"1\" class=\"dataframe\">\n",
              "  <thead>\n",
              "    <tr style=\"text-align: right;\">\n",
              "      <th></th>\n",
              "      <th>prob_pos</th>\n",
              "      <th>target</th>\n",
              "    </tr>\n",
              "  </thead>\n",
              "  <tbody>\n",
              "    <tr>\n",
              "      <th>0</th>\n",
              "      <td>0.593217</td>\n",
              "      <td>0</td>\n",
              "    </tr>\n",
              "    <tr>\n",
              "      <th>1</th>\n",
              "      <td>0.304188</td>\n",
              "      <td>1</td>\n",
              "    </tr>\n",
              "    <tr>\n",
              "      <th>2</th>\n",
              "      <td>0.001730</td>\n",
              "      <td>1</td>\n",
              "    </tr>\n",
              "    <tr>\n",
              "      <th>3</th>\n",
              "      <td>0.753044</td>\n",
              "      <td>0</td>\n",
              "    </tr>\n",
              "    <tr>\n",
              "      <th>4</th>\n",
              "      <td>0.127895</td>\n",
              "      <td>0</td>\n",
              "    </tr>\n",
              "  </tbody>\n",
              "</table>\n",
              "</div>\n",
              "    <div class=\"colab-df-buttons\">\n",
              "\n",
              "  <div class=\"colab-df-container\">\n",
              "    <button class=\"colab-df-convert\" onclick=\"convertToInteractive('df-8bb2431b-3036-4610-ba3e-f54dea89035a')\"\n",
              "            title=\"Convert this dataframe to an interactive table.\"\n",
              "            style=\"display:none;\">\n",
              "\n",
              "  <svg xmlns=\"http://www.w3.org/2000/svg\" height=\"24px\" viewBox=\"0 -960 960 960\">\n",
              "    <path d=\"M120-120v-720h720v720H120Zm60-500h600v-160H180v160Zm220 220h160v-160H400v160Zm0 220h160v-160H400v160ZM180-400h160v-160H180v160Zm440 0h160v-160H620v160ZM180-180h160v-160H180v160Zm440 0h160v-160H620v160Z\"/>\n",
              "  </svg>\n",
              "    </button>\n",
              "\n",
              "  <style>\n",
              "    .colab-df-container {\n",
              "      display:flex;\n",
              "      gap: 12px;\n",
              "    }\n",
              "\n",
              "    .colab-df-convert {\n",
              "      background-color: #E8F0FE;\n",
              "      border: none;\n",
              "      border-radius: 50%;\n",
              "      cursor: pointer;\n",
              "      display: none;\n",
              "      fill: #1967D2;\n",
              "      height: 32px;\n",
              "      padding: 0 0 0 0;\n",
              "      width: 32px;\n",
              "    }\n",
              "\n",
              "    .colab-df-convert:hover {\n",
              "      background-color: #E2EBFA;\n",
              "      box-shadow: 0px 1px 2px rgba(60, 64, 67, 0.3), 0px 1px 3px 1px rgba(60, 64, 67, 0.15);\n",
              "      fill: #174EA6;\n",
              "    }\n",
              "\n",
              "    .colab-df-buttons div {\n",
              "      margin-bottom: 4px;\n",
              "    }\n",
              "\n",
              "    [theme=dark] .colab-df-convert {\n",
              "      background-color: #3B4455;\n",
              "      fill: #D2E3FC;\n",
              "    }\n",
              "\n",
              "    [theme=dark] .colab-df-convert:hover {\n",
              "      background-color: #434B5C;\n",
              "      box-shadow: 0px 1px 3px 1px rgba(0, 0, 0, 0.15);\n",
              "      filter: drop-shadow(0px 1px 2px rgba(0, 0, 0, 0.3));\n",
              "      fill: #FFFFFF;\n",
              "    }\n",
              "  </style>\n",
              "\n",
              "    <script>\n",
              "      const buttonEl =\n",
              "        document.querySelector('#df-8bb2431b-3036-4610-ba3e-f54dea89035a button.colab-df-convert');\n",
              "      buttonEl.style.display =\n",
              "        google.colab.kernel.accessAllowed ? 'block' : 'none';\n",
              "\n",
              "      async function convertToInteractive(key) {\n",
              "        const element = document.querySelector('#df-8bb2431b-3036-4610-ba3e-f54dea89035a');\n",
              "        const dataTable =\n",
              "          await google.colab.kernel.invokeFunction('convertToInteractive',\n",
              "                                                    [key], {});\n",
              "        if (!dataTable) return;\n",
              "\n",
              "        const docLinkHtml = 'Like what you see? Visit the ' +\n",
              "          '<a target=\"_blank\" href=https://colab.research.google.com/notebooks/data_table.ipynb>data table notebook</a>'\n",
              "          + ' to learn more about interactive tables.';\n",
              "        element.innerHTML = '';\n",
              "        dataTable['output_type'] = 'display_data';\n",
              "        await google.colab.output.renderOutput(dataTable, element);\n",
              "        const docLink = document.createElement('div');\n",
              "        docLink.innerHTML = docLinkHtml;\n",
              "        element.appendChild(docLink);\n",
              "      }\n",
              "    </script>\n",
              "  </div>\n",
              "\n",
              "\n",
              "    <div id=\"df-9e6c730e-4bfa-47da-aa70-f55a2fc65364\">\n",
              "      <button class=\"colab-df-quickchart\" onclick=\"quickchart('df-9e6c730e-4bfa-47da-aa70-f55a2fc65364')\"\n",
              "                title=\"Suggest charts\"\n",
              "                style=\"display:none;\">\n",
              "\n",
              "<svg xmlns=\"http://www.w3.org/2000/svg\" height=\"24px\"viewBox=\"0 0 24 24\"\n",
              "     width=\"24px\">\n",
              "    <g>\n",
              "        <path d=\"M19 3H5c-1.1 0-2 .9-2 2v14c0 1.1.9 2 2 2h14c1.1 0 2-.9 2-2V5c0-1.1-.9-2-2-2zM9 17H7v-7h2v7zm4 0h-2V7h2v10zm4 0h-2v-4h2v4z\"/>\n",
              "    </g>\n",
              "</svg>\n",
              "      </button>\n",
              "\n",
              "<style>\n",
              "  .colab-df-quickchart {\n",
              "      --bg-color: #E8F0FE;\n",
              "      --fill-color: #1967D2;\n",
              "      --hover-bg-color: #E2EBFA;\n",
              "      --hover-fill-color: #174EA6;\n",
              "      --disabled-fill-color: #AAA;\n",
              "      --disabled-bg-color: #DDD;\n",
              "  }\n",
              "\n",
              "  [theme=dark] .colab-df-quickchart {\n",
              "      --bg-color: #3B4455;\n",
              "      --fill-color: #D2E3FC;\n",
              "      --hover-bg-color: #434B5C;\n",
              "      --hover-fill-color: #FFFFFF;\n",
              "      --disabled-bg-color: #3B4455;\n",
              "      --disabled-fill-color: #666;\n",
              "  }\n",
              "\n",
              "  .colab-df-quickchart {\n",
              "    background-color: var(--bg-color);\n",
              "    border: none;\n",
              "    border-radius: 50%;\n",
              "    cursor: pointer;\n",
              "    display: none;\n",
              "    fill: var(--fill-color);\n",
              "    height: 32px;\n",
              "    padding: 0;\n",
              "    width: 32px;\n",
              "  }\n",
              "\n",
              "  .colab-df-quickchart:hover {\n",
              "    background-color: var(--hover-bg-color);\n",
              "    box-shadow: 0 1px 2px rgba(60, 64, 67, 0.3), 0 1px 3px 1px rgba(60, 64, 67, 0.15);\n",
              "    fill: var(--button-hover-fill-color);\n",
              "  }\n",
              "\n",
              "  .colab-df-quickchart-complete:disabled,\n",
              "  .colab-df-quickchart-complete:disabled:hover {\n",
              "    background-color: var(--disabled-bg-color);\n",
              "    fill: var(--disabled-fill-color);\n",
              "    box-shadow: none;\n",
              "  }\n",
              "\n",
              "  .colab-df-spinner {\n",
              "    border: 2px solid var(--fill-color);\n",
              "    border-color: transparent;\n",
              "    border-bottom-color: var(--fill-color);\n",
              "    animation:\n",
              "      spin 1s steps(1) infinite;\n",
              "  }\n",
              "\n",
              "  @keyframes spin {\n",
              "    0% {\n",
              "      border-color: transparent;\n",
              "      border-bottom-color: var(--fill-color);\n",
              "      border-left-color: var(--fill-color);\n",
              "    }\n",
              "    20% {\n",
              "      border-color: transparent;\n",
              "      border-left-color: var(--fill-color);\n",
              "      border-top-color: var(--fill-color);\n",
              "    }\n",
              "    30% {\n",
              "      border-color: transparent;\n",
              "      border-left-color: var(--fill-color);\n",
              "      border-top-color: var(--fill-color);\n",
              "      border-right-color: var(--fill-color);\n",
              "    }\n",
              "    40% {\n",
              "      border-color: transparent;\n",
              "      border-right-color: var(--fill-color);\n",
              "      border-top-color: var(--fill-color);\n",
              "    }\n",
              "    60% {\n",
              "      border-color: transparent;\n",
              "      border-right-color: var(--fill-color);\n",
              "    }\n",
              "    80% {\n",
              "      border-color: transparent;\n",
              "      border-right-color: var(--fill-color);\n",
              "      border-bottom-color: var(--fill-color);\n",
              "    }\n",
              "    90% {\n",
              "      border-color: transparent;\n",
              "      border-bottom-color: var(--fill-color);\n",
              "    }\n",
              "  }\n",
              "</style>\n",
              "\n",
              "      <script>\n",
              "        async function quickchart(key) {\n",
              "          const quickchartButtonEl =\n",
              "            document.querySelector('#' + key + ' button');\n",
              "          quickchartButtonEl.disabled = true;  // To prevent multiple clicks.\n",
              "          quickchartButtonEl.classList.add('colab-df-spinner');\n",
              "          try {\n",
              "            const charts = await google.colab.kernel.invokeFunction(\n",
              "                'suggestCharts', [key], {});\n",
              "          } catch (error) {\n",
              "            console.error('Error during call to suggestCharts:', error);\n",
              "          }\n",
              "          quickchartButtonEl.classList.remove('colab-df-spinner');\n",
              "          quickchartButtonEl.classList.add('colab-df-quickchart-complete');\n",
              "        }\n",
              "        (() => {\n",
              "          let quickchartButtonEl =\n",
              "            document.querySelector('#df-9e6c730e-4bfa-47da-aa70-f55a2fc65364 button');\n",
              "          quickchartButtonEl.style.display =\n",
              "            google.colab.kernel.accessAllowed ? 'block' : 'none';\n",
              "        })();\n",
              "      </script>\n",
              "    </div>\n",
              "\n",
              "    </div>\n",
              "  </div>\n"
            ],
            "application/vnd.google.colaboratory.intrinsic+json": {
              "type": "dataframe",
              "variable_name": "df",
              "summary": "{\n  \"name\": \"df\",\n  \"rows\": 1000,\n  \"fields\": [\n    {\n      \"column\": \"prob_pos\",\n      \"properties\": {\n        \"dtype\": \"number\",\n        \"std\": 0.28135870858405726,\n        \"min\": 0.0005203577694002925,\n        \"max\": 0.9996585471768339,\n        \"num_unique_values\": 1000,\n        \"samples\": [\n          0.3057160589317238,\n          0.74850864808245,\n          0.27079816493393283\n        ],\n        \"semantic_type\": \"\",\n        \"description\": \"\"\n      }\n    },\n    {\n      \"column\": \"target\",\n      \"properties\": {\n        \"dtype\": \"number\",\n        \"std\": 0,\n        \"min\": 0,\n        \"max\": 1,\n        \"num_unique_values\": 2,\n        \"samples\": [\n          1,\n          0\n        ],\n        \"semantic_type\": \"\",\n        \"description\": \"\"\n      }\n    }\n  ]\n}"
            }
          },
          "metadata": {},
          "execution_count": 23
        }
      ]
    },
    {
      "cell_type": "markdown",
      "source": [
        "#Configurando a planilha"
      ],
      "metadata": {
        "id": "0Wz57pTHunzs"
      }
    },
    {
      "cell_type": "code",
      "source": [
        "# Definindo o step\n",
        "step = 0.1\n",
        "bins = np.arange(0, 1 + step, step)\n",
        "df['bin'] = pd.cut(df['prob_pos'], bins=bins, include_lowest=True)\n",
        "\n",
        "# Calculando os percentuais\n",
        "pop_total = df['bin'].value_counts(normalize=True).sort_index() * 100\n",
        "pop_pos = df[df['target'] == 1]['bin'].value_counts(normalize=True).sort_index() * 100\n",
        "\n",
        "# Garantindo que os índices estejam alinhados\n",
        "labels = pop_total.index.astype(str)\n",
        "x = np.arange(len(labels))\n",
        "width = 0.4\n",
        "\n",
        "# Plotando gráfico com valores\n",
        "plt.figure(figsize=(12, 6))\n",
        "bars1 = plt.bar(x - width/2, pop_total.values, width=width, color='blue', label='População Geral')\n",
        "bars2 = plt.bar(x + width/2, pop_pos.values, width=width, color='red', label='Target Positivo')\n",
        "\n",
        "# Adicionando os valores em cima das barras\n",
        "for bar in bars1:\n",
        "    height = bar.get_height()\n",
        "    plt.text(bar.get_x() + bar.get_width()/2, height + 0.2, f'{height:.1f}%', ha='center', va='bottom', fontsize=8)\n",
        "\n",
        "for bar in bars2:\n",
        "    height = bar.get_height()\n",
        "    plt.text(bar.get_x() + bar.get_width()/2, height + 0.2, f'{height:.1f}%', ha='center', va='bottom', fontsize=8)\n",
        "\n",
        "plt.xticks(x, labels, rotation=45)\n",
        "plt.xlabel('Faixa de Probabilidade (%)')\n",
        "plt.ylabel('Percentual Populacional (%)')\n",
        "plt.title('Distribuição de Probabilidades - Barras Lado a Lado')\n",
        "plt.legend()\n",
        "plt.grid(True)\n",
        "plt.tight_layout()\n",
        "plt.show()"
      ],
      "metadata": {
        "colab": {
          "base_uri": "https://localhost:8080/",
          "height": 328
        },
        "id": "qjpr-5E5qGS1",
        "outputId": "94dc2058-e881-45a7-9bf7-86656a61ef1d"
      },
      "execution_count": 24,
      "outputs": [
        {
          "output_type": "display_data",
          "data": {
            "text/plain": [
              "<Figure size 1200x600 with 1 Axes>"
            ],
            "image/png": "[encoded data removed]"
          },
          "metadata": {}
        }
      ]
    },
    {
      "cell_type": "markdown",
      "source": [
        "#Definição dos Pontos de cortes"
      ],
      "metadata": {
        "id": "c0s30-zQubeF"
      }
    },
    {
      "cell_type": "code",
      "source": [
        "# Definindo os pontos de corte\n",
        "corte_neg = 0.5\n",
        "corte_pos = 0.9\n",
        "\n",
        "# Criando coluna de predição baseada nos cortes\n",
        "def classificar(prob):\n",
        "    if prob <= corte_neg:\n",
        "        return 0 #classe negativa  força a retornar negativo\n",
        "    elif prob >= corte_pos:\n",
        "        return 1 #classe positiva  força a retornar positivo\n",
        "    else:\n",
        "        return -1  # análise manual\n",
        "\n",
        "df['pred'] = df['prob_pos'].apply(classificar)\n",
        "\n",
        "# Calculando métricas\n",
        "total = len(df)\n",
        "acertos = (df['pred'] == df['target']).sum()\n",
        "acuracia = acertos / total\n",
        "\n",
        "# Apenas onde houve decisão (sem análise manual)\n",
        "df_decidido = df[df['pred'] != -1]\n",
        "acuracia_decidida = (df_decidido['pred'] == df_decidido['target']).mean()\n",
        "\n",
        "# Recall e precisão para classe positiva\n",
        "verdadeiros_positivos = ((df['pred'] == 1) & (df['target'] == 1)).sum()\n",
        "falsos_negativos = ((df['pred'] == 0) & (df['target'] == 1)).sum()\n",
        "falsos_positivos = ((df['pred'] == 1) & (df['target'] == 0)).sum()\n",
        "\n",
        "recall = verdadeiros_positivos / (verdadeiros_positivos + falsos_negativos)\n",
        "precision = verdadeiros_positivos / (verdadeiros_positivos + falsos_positivos)\n",
        "\n",
        "# Exibindo os resultados\n",
        "print(f\"Acurácia geral: {acuracia:.2f}\")\n",
        "print(f\"Acurácia onde houve decisão: {acuracia_decidida:.2f}\")\n",
        "print(f\"Recall (sensibilidade): {recall:.2f}\")\n",
        "print(f\"Precisão: {precision:.2f}\")\n",
        "print(f\"Casos enviados para análise manual: {(df['pred'] == -1).sum()} de {total}\")"
      ],
      "metadata": {
        "colab": {
          "base_uri": "https://localhost:8080/"
        },
        "id": "luiR7ep8tDhW",
        "outputId": "7f7dc9cc-a607-459b-8523-7a59af36d163"
      },
      "execution_count": 25,
      "outputs": [
        {
          "output_type": "stream",
          "name": "stdout",
          "text": [
            "Acurácia geral: 0.36\n",
            "Acurácia onde houve decisão: 0.64\n",
            "Recall (sensibilidade): 0.16\n",
            "Precisão: 0.31\n",
            "Casos enviados para análise manual: 431 de 1000\n"
          ]
        }
      ]
    },
    {
      "cell_type": "markdown",
      "source": [
        "#Função avaliar_cortes"
      ],
      "metadata": {
        "id": "1_HVwhtgIWfe"
      }
    },
    {
      "cell_type": "code",
      "source": [
        "def avaliar_cortes(df, corte_neg=0.3, corte_pos=0.7):\n",
        "    # Aplica os cortes\n",
        "    def classificar(prob):\n",
        "        if prob <= corte_neg:\n",
        "            return 0\n",
        "        elif prob >= corte_pos:\n",
        "            return 1\n",
        "        else:\n",
        "            return -1  # análise manual\n",
        "\n",
        "    df['pred'] = df['prob_pos'].apply(classificar)\n",
        "\n",
        "    # Métricas\n",
        "    total = len(df)\n",
        "    acertos = (df['pred'] == df['target']).sum()\n",
        "    acuracia = acertos / total\n",
        "\n",
        "    df_decidido = df[df['pred'] != -1]\n",
        "    acuracia_decidida = (df_decidido['pred'] == df_decidido['target']).mean()\n",
        "\n",
        "    vp = ((df['pred'] == 1) & (df['target'] == 1)).sum()\n",
        "    fn = ((df['pred'] == 0) & (df['target'] == 1)).sum()\n",
        "    fp = ((df['pred'] == 1) & (df['target'] == 0)).sum()\n",
        "\n",
        "    recall = vp / (vp + fn) if (vp + fn) > 0 else 0\n",
        "    precisao = vp / (vp + fp) if (vp + fp) > 0 else 0\n",
        "    analise_manual = (df['pred'] == -1).sum()\n",
        "\n",
        "    # Exibe os resultados\n",
        "    print(f\"🔹 Corte Negativo: {corte_neg:.2f} | Corte Positivo: {corte_pos:.2f}\")\n",
        "    print(f\"Acurácia geral: {acuracia:.2f}\")\n",
        "    print(f\"Acurácia onde houve decisão: {acuracia_decidida:.2f}\")\n",
        "    print(f\"Recall (sensibilidade): {recall:.2f}\")\n",
        "    print(f\"Precisão: {precisao:.2f}\")\n",
        "    print(f\"Casos enviados para análise manual: {analise_manual} de {total}\")"
      ],
      "metadata": {
        "id": "jPwUSf4VIVs2"
      },
      "execution_count": 53,
      "outputs": []
    },
    {
      "cell_type": "markdown",
      "source": [
        "#Testando vários pontos de corte:\n",
        "\n"
      ],
      "metadata": {
        "id": "XxOKZgC4IaGu"
      }
    },
    {
      "cell_type": "code",
      "source": [
        "# Testando vários pontos de corte\n",
        "for corte_neg in [0.3, 0.4, 0.5]:\n",
        "    for corte_pos in [0.7, 0.8, 0.9]:\n",
        "        avaliar_cortes(df, corte_neg=corte_neg, corte_pos=corte_pos)\n",
        "        print(\"-\" * 50)"
      ],
      "metadata": {
        "colab": {
          "base_uri": "https://localhost:8080/"
        },
        "id": "Sxybh-eaImMn",
        "outputId": "11aabf81-5a62-4e19-9f12-fe5cd8549ea8"
      },
      "execution_count": 27,
      "outputs": [
        {
          "output_type": "stream",
          "name": "stdout",
          "text": [
            "🔹 Corte Negativo: 0.30 | Corte Positivo: 0.70\n",
            "Acurácia geral: 0.32\n",
            "Acurácia onde houve decisão: 0.54\n",
            "Recall (sensibilidade): 0.57\n",
            "Precisão: 0.35\n",
            "Casos enviados para análise manual: 409 de 1000\n",
            "--------------------------------------------------\n",
            "🔹 Corte Negativo: 0.30 | Corte Positivo: 0.80\n",
            "Acurácia geral: 0.28\n",
            "Acurácia onde houve decisão: 0.58\n",
            "Recall (sensibilidade): 0.44\n",
            "Precisão: 0.34\n",
            "Casos enviados para análise manual: 518 de 1000\n",
            "--------------------------------------------------\n",
            "🔹 Corte Negativo: 0.30 | Corte Positivo: 0.90\n",
            "Acurácia geral: 0.24\n",
            "Acurácia onde houve decisão: 0.63\n",
            "Recall (sensibilidade): 0.26\n",
            "Precisão: 0.31\n",
            "Casos enviados para análise manual: 617 de 1000\n",
            "--------------------------------------------------\n",
            "🔹 Corte Negativo: 0.40 | Corte Positivo: 0.70\n",
            "Acurácia geral: 0.37\n",
            "Acurácia onde houve decisão: 0.54\n",
            "Recall (sensibilidade): 0.48\n",
            "Precisão: 0.35\n",
            "Casos enviados para análise manual: 328 de 1000\n",
            "--------------------------------------------------\n",
            "🔹 Corte Negativo: 0.40 | Corte Positivo: 0.80\n",
            "Acurácia geral: 0.33\n",
            "Acurácia onde houve decisão: 0.58\n",
            "Recall (sensibilidade): 0.36\n",
            "Precisão: 0.34\n",
            "Casos enviados para análise manual: 437 de 1000\n",
            "--------------------------------------------------\n",
            "🔹 Corte Negativo: 0.40 | Corte Positivo: 0.90\n",
            "Acurácia geral: 0.29\n",
            "Acurácia onde houve decisão: 0.62\n",
            "Recall (sensibilidade): 0.20\n",
            "Precisão: 0.31\n",
            "Casos enviados para análise manual: 536 de 1000\n",
            "--------------------------------------------------\n",
            "🔹 Corte Negativo: 0.50 | Corte Positivo: 0.70\n",
            "Acurácia geral: 0.44\n",
            "Acurácia onde houve decisão: 0.56\n",
            "Recall (sensibilidade): 0.42\n",
            "Precisão: 0.35\n",
            "Casos enviados para análise manual: 223 de 1000\n",
            "--------------------------------------------------\n",
            "🔹 Corte Negativo: 0.50 | Corte Positivo: 0.80\n",
            "Acurácia geral: 0.40\n",
            "Acurácia onde houve decisão: 0.60\n",
            "Recall (sensibilidade): 0.31\n",
            "Precisão: 0.34\n",
            "Casos enviados para análise manual: 332 de 1000\n",
            "--------------------------------------------------\n",
            "🔹 Corte Negativo: 0.50 | Corte Positivo: 0.90\n",
            "Acurácia geral: 0.36\n",
            "Acurácia onde houve decisão: 0.64\n",
            "Recall (sensibilidade): 0.16\n",
            "Precisão: 0.31\n",
            "Casos enviados para análise manual: 431 de 1000\n",
            "--------------------------------------------------\n"
          ]
        }
      ]
    },
    {
      "cell_type": "markdown",
      "source": [
        "#Escolhas do ponto de corte\n",
        "\n",
        "Escolha Final do ponto de corte, analisar os resultados a cima, e escolher a melhor métrica"
      ],
      "metadata": {
        "id": "eW8Y1jzAIaCW"
      }
    },
    {
      "cell_type": "code",
      "source": [
        "# Escolha final dos pontos de corte\n",
        "corte_neg_final = 0.5\n",
        "corte_pos_final = 0.8\n",
        "\n",
        "avaliar_cortes(df, corte_neg=corte_neg_final, corte_pos=corte_pos_final)\n",
        "\n",
        "print(\"\\n📌 Justificativa da escolha dos cortes:\")\n",
        "print(f\"- Corte negativo <= {corte_neg_final}: reduz falsos positivos, mantendo boa acurácia.\")\n",
        "print(f\"- Corte positivo >= {corte_pos_final}: aumenta a confiança dos positivos, equilibrando precisão e recall.\")\n",
        "print(\"- A faixa intermediária é enviada para análise manual, representando um trade-off entre risco de erro e custo de revisão.\")\n",
        "print(\"- Essa escolha foi feita considerando o acúmulo populacional nos bins e as métricas de erro obtidas.\")\n"
      ],
      "metadata": {
        "colab": {
          "base_uri": "https://localhost:8080/"
        },
        "id": "wctAyDMvXU3F",
        "outputId": "de5ca6e8-745b-4adb-e779-6e0f63bcac8b"
      },
      "execution_count": 28,
      "outputs": [
        {
          "output_type": "stream",
          "name": "stdout",
          "text": [
            "🔹 Corte Negativo: 0.50 | Corte Positivo: 0.80\n",
            "Acurácia geral: 0.40\n",
            "Acurácia onde houve decisão: 0.60\n",
            "Recall (sensibilidade): 0.31\n",
            "Precisão: 0.34\n",
            "Casos enviados para análise manual: 332 de 1000\n",
            "\n",
            "📌 Justificativa da escolha dos cortes:\n",
            "- Corte negativo <= 0.5: reduz falsos positivos, mantendo boa acurácia.\n",
            "- Corte positivo >= 0.8: aumenta a confiança dos positivos, equilibrando precisão e recall.\n",
            "- A faixa intermediária é enviada para análise manual, representando um trade-off entre risco de erro e custo de revisão.\n",
            "- Essa escolha foi feita considerando o acúmulo populacional nos bins e as métricas de erro obtidas.\n"
          ]
        }
      ]
    },
    {
      "cell_type": "markdown",
      "source": [
        "#Carregar Dados\n",
        "\n",
        "Preencher com diretório na linha\n",
        "dados = { \"dados\" }"
      ],
      "metadata": {
        "id": "3GgHhd1t0W01"
      }
    },
    {
      "cell_type": "code",
      "source": [
        "from google.colab import files #Função para importar arquivos do computador\n",
        "\n",
        "uploaded = files.upload()\n",
        "\n",
        "# Depois de importar, você consegue ler o CSV\n",
        "import pandas as pd\n",
        "df = pd.read_csv(\"teste.csv\")\n",
        "print(df.head())\n",
        "\n"
      ],
      "metadata": {
        "colab": {
          "base_uri": "https://localhost:8080/",
          "height": 177
        },
        "id": "y8NKKPfB0UoV",
        "outputId": "4caadd16-5da9-49bb-9d1a-2fdd48270bca"
      },
      "execution_count": 36,
      "outputs": [
        {
          "output_type": "display_data",
          "data": {
            "text/plain": [
              "<IPython.core.display.HTML object>"
            ],
            "text/html": [
              "\n",
              "     <input type=\"file\" id=\"files-caf523d4-9a75-41dc-b412-0f3e875e94f7\" name=\"files[]\" multiple disabled\n",
              "        style=\"border:none\" />\n",
              "     <output id=\"result-caf523d4-9a75-41dc-b412-0f3e875e94f7\">\n",
              "      Upload widget is only available when the cell has been executed in the\n",
              "      current browser session. Please rerun this cell to enable.\n",
              "      </output>\n",
              "      <script>// Copyright 2017 Google LLC\n",
              "//\n",
              "// Licensed under the Apache License, Version 2.0 (the \"License\");\n",
              "// you may not use this file except in compliance with the License.\n",
              "// You may obtain a copy of the License at\n",
              "//\n",
              "//      http://www.apache.org/licenses/LICENSE-2.0\n",
              "//\n",
              "// Unless required by applicable law or agreed to in writing, software\n",
              "// distributed under the License is distributed on an \"AS IS\" BASIS,\n",
              "// WITHOUT WARRANTIES OR CONDITIONS OF ANY KIND, either express or implied.\n",
              "// See the License for the specific language governing permissions and\n",
              "// limitations under the License.\n",
              "\n",
              "/**\n",
              " * @fileoverview Helpers for google.colab Python module.\n",
              " */\n",
              "(function(scope) {\n",
              "function span(text, styleAttributes = {}) {\n",
              "  const element = document.createElement('span');\n",
              "  element.textContent = text;\n",
              "  for (const key of Object.keys(styleAttributes)) {\n",
              "    element.style[key] = styleAttributes[key];\n",
              "  }\n",
              "  return element;\n",
              "}\n",
              "\n",
              "// Max number of bytes which will be uploaded at a time.\n",
              "const MAX_PAYLOAD_SIZE = 100 * 1024;\n",
              "\n",
              "function _uploadFiles(inputId, outputId) {\n",
              "  const steps = uploadFilesStep(inputId, outputId);\n",
              "  const outputElement = document.getElementById(outputId);\n",
              "  // Cache steps on the outputElement to make it available for the next call\n",
              "  // to uploadFilesContinue from Python.\n",
              "  outputElement.steps = steps;\n",
              "\n",
              "  return _uploadFilesContinue(outputId);\n",
              "}\n",
              "\n",
              "// This is roughly an async generator (not supported in the browser yet),\n",
              "// where there are multiple asynchronous steps and the Python side is going\n",
              "// to poll for completion of each step.\n",
              "// This uses a Promise to block the python side on completion of each step,\n",
              "// then passes the result of the previous step as the input to the next step.\n",
              "function _uploadFilesContinue(outputId) {\n",
              "  const outputElement = document.getElementById(outputId);\n",
              "  const steps = outputElement.steps;\n",
              "\n",
              "  const next = steps.next(outputElement.lastPromiseValue);\n",
              "  return Promise.resolve(next.value.promise).then((value) => {\n",
              "    // Cache the last promise value to make it available to the next\n",
              "    // step of the generator.\n",
              "    outputElement.lastPromiseValue = value;\n",
              "    return next.value.response;\n",
              "  });\n",
              "}\n",
              "\n",
              "/**\n",
              " * Generator function which is called between each async step of the upload\n",
              " * process.\n",
              " * @param {string} inputId Element ID of the input file picker element.\n",
              " * @param {string} outputId Element ID of the output display.\n",
              " * @return {!Iterable<!Object>} Iterable of next steps.\n",
              " */\n",
              "function* uploadFilesStep(inputId, outputId) {\n",
              "  const inputElement = document.getElementById(inputId);\n",
              "  inputElement.disabled = false;\n",
              "\n",
              "  const outputElement = document.getElementById(outputId);\n",
              "  outputElement.innerHTML = '';\n",
              "\n",
              "  const pickedPromise = new Promise((resolve) => {\n",
              "    inputElement.addEventListener('change', (e) => {\n",
              "      resolve(e.target.files);\n",
              "    });\n",
              "  });\n",
              "\n",
              "  const cancel = document.createElement('button');\n",
              "  inputElement.parentElement.appendChild(cancel);\n",
              "  cancel.textContent = 'Cancel upload';\n",
              "  const cancelPromise = new Promise((resolve) => {\n",
              "    cancel.onclick = () => {\n",
              "      resolve(null);\n",
              "    };\n",
              "  });\n",
              "\n",
              "  // Wait for the user to pick the files.\n",
              "  const files = yield {\n",
              "    promise: Promise.race([pickedPromise, cancelPromise]),\n",
              "    response: {\n",
              "      action: 'starting',\n",
              "    }\n",
              "  };\n",
              "\n",
              "  cancel.remove();\n",
              "\n",
              "  // Disable the input element since further picks are not allowed.\n",
              "  inputElement.disabled = true;\n",
              "\n",
              "  if (!files) {\n",
              "    return {\n",
              "      response: {\n",
              "        action: 'complete',\n",
              "      }\n",
              "    };\n",
              "  }\n",
              "\n",
              "  for (const file of files) {\n",
              "    const li = document.createElement('li');\n",
              "    li.append(span(file.name, {fontWeight: 'bold'}));\n",
              "    li.append(span(\n",
              "        `(${file.type || 'n/a'}) - ${file.size} bytes, ` +\n",
              "        `last modified: ${\n",
              "            file.lastModifiedDate ? file.lastModifiedDate.toLocaleDateString() :\n",
              "                                    'n/a'} - `));\n",
              "    const percent = span('0% done');\n",
              "    li.appendChild(percent);\n",
              "\n",
              "    outputElement.appendChild(li);\n",
              "\n",
              "    const fileDataPromise = new Promise((resolve) => {\n",
              "      const reader = new FileReader();\n",
              "      reader.onload = (e) => {\n",
              "        resolve(e.target.result);\n",
              "      };\n",
              "      reader.readAsArrayBuffer(file);\n",
              "    });\n",
              "    // Wait for the data to be ready.\n",
              "    let fileData = yield {\n",
              "      promise: fileDataPromise,\n",
              "      response: {\n",
              "        action: 'continue',\n",
              "      }\n",
              "    };\n",
              "\n",
              "    // Use a chunked sending to avoid message size limits. See b/62115660.\n",
              "    let position = 0;\n",
              "    do {\n",
              "      const length = Math.min(fileData.byteLength - position, MAX_PAYLOAD_SIZE);\n",
              "      const chunk = new Uint8Array(fileData, position, length);\n",
              "      position += length;\n",
              "\n",
              "      const base64 = btoa(String.fromCharCode.apply(null, chunk));\n",
              "      yield {\n",
              "        response: {\n",
              "          action: 'append',\n",
              "          file: file.name,\n",
              "          data: base64,\n",
              "        },\n",
              "      };\n",
              "\n",
              "      let percentDone = fileData.byteLength === 0 ?\n",
              "          100 :\n",
              "          Math.round((position / fileData.byteLength) * 100);\n",
              "      percent.textContent = `${percentDone}% done`;\n",
              "\n",
              "    } while (position < fileData.byteLength);\n",
              "  }\n",
              "\n",
              "  // All done.\n",
              "  yield {\n",
              "    response: {\n",
              "      action: 'complete',\n",
              "    }\n",
              "  };\n",
              "}\n",
              "\n",
              "scope.google = scope.google || {};\n",
              "scope.google.colab = scope.google.colab || {};\n",
              "scope.google.colab._files = {\n",
              "  _uploadFiles,\n",
              "  _uploadFilesContinue,\n",
              "};\n",
              "})(self);\n",
              "</script> "
            ]
          },
          "metadata": {}
        },
        {
          "output_type": "stream",
          "name": "stdout",
          "text": [
            "Saving teste.csv to teste.csv\n",
            "   feature1  feature2 feature3  target\n",
            "0       0.5         3        A       0\n",
            "1       1.2         7        B       1\n",
            "2      -0.3         2        A       0\n",
            "3       0.8         9        B       1\n",
            "4      -1.1         4        A       0\n"
          ]
        }
      ]
    },
    {
      "cell_type": "markdown",
      "source": [
        "#Verificar Balanceamento Percentual da Base"
      ],
      "metadata": {
        "id": "XoEIvZB40zC9"
      }
    },
    {
      "cell_type": "code",
      "source": [
        "print(\"Distribuição da classe alvo:\")\n",
        "print(df[\"target\"].value_counts(normalize=True) * 100)\n",
        "sns.countplot(data=df, x=\"target\", palette=\"Set2\")\n",
        "plt.title(\"Distribuição da variável alvo\")\n",
        "plt.show()"
      ],
      "metadata": {
        "colab": {
          "base_uri": "https://localhost:8080/",
          "height": 675
        },
        "id": "_Rah5Gaq03p8",
        "outputId": "72ab7a94-5864-4a46-bdf4-c56c2ac7fed0"
      },
      "execution_count": 37,
      "outputs": [
        {
          "output_type": "stream",
          "name": "stdout",
          "text": [
            "Distribuição da classe alvo:\n",
            "target\n",
            "0    50.0\n",
            "1    50.0\n",
            "Name: proportion, dtype: float64\n"
          ]
        },
        {
          "output_type": "stream",
          "name": "stderr",
          "text": [
            "/tmp/ipython-input-223928827.py:3: FutureWarning: \n",
            "\n",
            "Passing `palette` without assigning `hue` is deprecated and will be removed in v0.14.0. Assign the `x` variable to `hue` and set `legend=False` for the same effect.\n",
            "\n",
            "  sns.countplot(data=df, x=\"target\", palette=\"Set2\")\n"
          ]
        },
        {
          "output_type": "display_data",
          "data": {
            "text/plain": [
              "<Figure size 640x480 with 1 Axes>"
            ],
            "image/png": "[encoded data removed]"
          },
          "metadata": {}
        }
      ]
    },
    {
      "cell_type": "markdown",
      "source": [
        "#Pré Processamento / Extração de caracteristicas"
      ],
      "metadata": {
        "id": "vPIuu2gy09ms"
      }
    },
    {
      "cell_type": "markdown",
      "source": [
        "Sempre revisar nome das colunas .CSV, para não haver erros, utilize print(df.columns) “célula abaixo”"
      ],
      "metadata": {
        "id": "9Jvkh6Tk7jFd"
      }
    },
    {
      "cell_type": "code",
      "source": [
        "print(df.columns)"
      ],
      "metadata": {
        "colab": {
          "base_uri": "https://localhost:8080/"
        },
        "id": "kG9x36Kk8phs",
        "outputId": "5153a289-cdf9-42fb-c390-b2d244fbeda0"
      },
      "execution_count": 41,
      "outputs": [
        {
          "output_type": "stream",
          "name": "stdout",
          "text": [
            "Index(['feature1', 'feature2', 'feature3', 'target'], dtype='object')\n"
          ]
        }
      ]
    },
    {
      "cell_type": "markdown",
      "source": [
        "Função para treinar, e testar o csv"
      ],
      "metadata": {
        "id": "m5Ojt4qJBAhw"
      }
    },
    {
      "cell_type": "code",
      "source": [
        "from sklearn.feature_extraction.text import TfidfVectorizer\n",
        "from sklearn.model_selection import train_test_split\n",
        "import pandas as pd\n",
        "\n",
        "# Carregar CSV\n",
        "df = pd.read_csv(\"teste.csv\") #mudar o nome do .csv, conforme uso\n",
        "\n",
        "# Detectar coluna de texto\n",
        "col_text = None\n",
        "for col in df.columns:\n",
        "    if df[col].dtype == \"object\":  # tipo texto\n",
        "        media_tamanho = df[col].astype(str).str.len().mean()\n",
        "        if media_tamanho > 15:  # texto longo\n",
        "            col_text = col\n",
        "            break\n",
        "\n",
        "# Detectar coluna alvo: assume última coluna\n",
        "col_target = df.columns[-1]\n",
        "\n",
        "print(\"Coluna de texto detectada:\", col_text)\n",
        "print(\"Coluna alvo detectada:\", col_target)\n",
        "\n",
        "# Se tiver texto, aplica TF-IDF, senão usa colunas numéricas\n",
        "if col_text:\n",
        "    vectorizer = TfidfVectorizer()\n",
        "    X = vectorizer.fit_transform(df[col_text])\n",
        "else:\n",
        "    X = df.drop(columns=[col_target])  # pega só features numéricas\n",
        "\n",
        "y = df[col_target]\n",
        "\n",
        "# Split treino/teste\n",
        "X_train, X_test, y_train, y_test = train_test_split(\n",
        "    X, y, test_size=0.3, random_state=42, stratify=y\n",
        ")\n",
        "\n",
        "print(\"Treino:\", X_train.shape, \"Teste:\", X_test.shape)\n",
        "\n",
        "\n"
      ],
      "metadata": {
        "colab": {
          "base_uri": "https://localhost:8080/"
        },
        "id": "tvcq6V5s03C6",
        "outputId": "6e985470-4402-4c22-afba-19f983a4eec2"
      },
      "execution_count": 45,
      "outputs": [
        {
          "output_type": "stream",
          "name": "stdout",
          "text": [
            "Coluna de texto detectada: None\n",
            "Coluna alvo detectada: target\n",
            "Treino: (7, 3) Teste: (3, 3)\n"
          ]
        }
      ]
    },
    {
      "cell_type": "markdown",
      "source": [
        "#Treinar Modelos: Regressão Logística e Random Forest"
      ],
      "metadata": {
        "id": "CKm8M0g01LFc"
      }
    },
    {
      "cell_type": "code",
      "source": [
        "from sklearn.model_selection import train_test_split\n",
        "from sklearn.feature_extraction.text import TfidfVectorizer\n",
        "from scipy.sparse import hstack\n",
        "import pandas as pd\n",
        "\n",
        "# Definir coluna alvo (última coluna do CSV)\n",
        "col_target = df.columns[-1]\n",
        "\n",
        "# Detectar colunas do tipo object (possível texto)\n",
        "text_cols = df.select_dtypes(include='object').columns.tolist()\n",
        "text_cols = [col for col in text_cols if col != col_target]\n",
        "\n",
        "X_text = None\n",
        "\n",
        "for col_text in text_cols:\n",
        "    # Apenas usa se houver algum texto válido\n",
        "    if df[col_text].dropna().astype(str).str.strip().str.len().sum() > 0:\n",
        "        vectorizer = TfidfVectorizer()\n",
        "        try:\n",
        "            X_text = vectorizer.fit_transform(df[col_text])\n",
        "            print(f\"Coluna de texto detectada e transformada: {col_text}\")\n",
        "            break\n",
        "        except ValueError:\n",
        "            print(f\"A coluna {col_text} não contém texto válido. Ignorando TF-IDF.\")\n",
        "\n",
        "# Colunas numéricas/categóricas restantes\n",
        "cols_features = [c for c in df.columns if c != col_target and c not in text_cols]\n",
        "X_num = pd.get_dummies(df[cols_features])\n",
        "\n",
        "# Combinar X_text + X_num\n",
        "if X_text is not None:\n",
        "    X = hstack([X_text, X_num.values])\n",
        "else:\n",
        "    X = X_num.values\n",
        "\n",
        "y = df[col_target]\n",
        "\n",
        "# Separar treino/teste\n",
        "X_train, X_test, y_train, y_test = train_test_split(\n",
        "    X, y, test_size=0.3, random_state=42, stratify=y\n",
        ")\n",
        "\n",
        "print(\"Pré-processamento concluído!\")\n",
        "print(f\"Tamanho treino: {X_train.shape[0]}, Tamanho teste: {X_test.shape[0]}\")\n"
      ],
      "metadata": {
        "colab": {
          "base_uri": "https://localhost:8080/"
        },
        "id": "iKmBmAmj1JYs",
        "outputId": "f8504e4c-423e-4ae4-e0d9-27ce89c554fc"
      },
      "execution_count": 51,
      "outputs": [
        {
          "output_type": "stream",
          "name": "stdout",
          "text": [
            "A coluna feature3 não contém texto válido. Ignorando TF-IDF.\n",
            "Pré-processamento concluído!\n",
            "Tamanho treino: 7, Tamanho teste: 3\n"
          ]
        }
      ]
    },
    {
      "cell_type": "markdown",
      "source": [
        "#Avaliar Pontos de corte com progama - inserir titulo (da celular q usamos para avaliar os cortes)\n"
      ],
      "metadata": {
        "id": "n-naRfFy1M7s"
      }
    },
    {
      "cell_type": "code",
      "source": [
        "def avaliar_cortes(y_true, y_prob, corte_neg=0.2, corte_pos=0.8):\n",
        "    \"\"\"\n",
        "    Avalia métricas em diferentes pontos de corte:\n",
        "    - Abaixo de corte_neg → classe 0 (negativa)\n",
        "    - Acima de corte_pos → classe 1 (positiva)\n",
        "    - Entre eles → 'manual'\n",
        "    \"\"\"\n",
        "    y_pred = []\n",
        "\n",
        "    for p in y_prob:\n",
        "        if p < corte_neg:\n",
        "            y_pred.append(0)\n",
        "        elif p > corte_pos:\n",
        "            y_pred.append(1)\n",
        "        else:\n",
        "            y_pred.append(\"manual\")\n",
        "\n",
        "    df_cortes = pd.DataFrame({\"Prob\": y_prob, \"Target\": y_true, \"Pred\": y_pred})\n",
        "\n",
        "    # métricas sem contar os casos manuais\n",
        "    df_validos = df_cortes[df_cortes[\"Pred\"] != \"manual\"]\n",
        "    acc = accuracy_score(df_validos[\"Target\"], df_validos[\"Pred\"])\n",
        "    prec = precision_score(df_validos[\"Target\"], df_validos[\"Pred\"])\n",
        "    rec = recall_score(df_validos[\"Target\"], df_validos[\"Pred\"])\n",
        "    f1 = f1_score(df_validos[\"Target\"], df_validos[\"Pred\"])\n",
        "\n",
        "    print(f\"--- Avaliação com cortes neg={corte_neg}, pos={corte_pos} ---\")\n",
        "    print(\"Tamanho total:\", len(df_cortes))\n",
        "    print(\"Casos manuais:\", sum(df_cortes['Pred'] == 'manual'))\n",
        "    print(f\"Accuracy={acc:.3f}, Precision={prec:.3f}, Recall={rec:.3f}, F1={f1:.3f}\")\n",
        "    print()\n",
        "\n",
        "    return df_cortes\n",
        "\n",
        "# Testando no melhor modelo\n",
        "modelo_escolhido = best_rf\n",
        "y_prob = modelo_escolhido.predict_proba(X_test)[:, 1]\n",
        "avaliar_cortes(y_test.values, y_prob, corte_neg=0.3, corte_pos=0.7)\n"
      ],
      "metadata": {
        "colab": {
          "base_uri": "https://localhost:8080/",
          "height": 211
        },
        "id": "gK7RntOG1lYk",
        "outputId": "e74c7ee1-231f-415a-d1f4-2858c2c18702"
      },
      "execution_count": 54,
      "outputs": [
        {
          "output_type": "error",
          "ename": "NameError",
          "evalue": "name 'best_rf' is not defined",
          "traceback": [
            "\u001b[0;31m---------------------------------------------------------------------------\u001b[0m",
            "\u001b[0;31mNameError\u001b[0m                                 Traceback (most recent call last)",
            "\u001b[0;32m/tmp/ipython-input-1631420327.py\u001b[0m in \u001b[0;36m<cell line: 0>\u001b[0;34m()\u001b[0m\n\u001b[1;32m     34\u001b[0m \u001b[0;34m\u001b[0m\u001b[0m\n\u001b[1;32m     35\u001b[0m \u001b[0;31m# Testando no melhor modelo\u001b[0m\u001b[0;34m\u001b[0m\u001b[0;34m\u001b[0m\u001b[0m\n\u001b[0;32m---> 36\u001b[0;31m \u001b[0mmodelo_escolhido\u001b[0m \u001b[0;34m=\u001b[0m \u001b[0mbest_rf\u001b[0m\u001b[0;34m\u001b[0m\u001b[0;34m\u001b[0m\u001b[0m\n\u001b[0m\u001b[1;32m     37\u001b[0m \u001b[0my_prob\u001b[0m \u001b[0;34m=\u001b[0m \u001b[0mmodelo_escolhido\u001b[0m\u001b[0;34m.\u001b[0m\u001b[0mpredict_proba\u001b[0m\u001b[0;34m(\u001b[0m\u001b[0mX_test\u001b[0m\u001b[0;34m)\u001b[0m\u001b[0;34m[\u001b[0m\u001b[0;34m:\u001b[0m\u001b[0;34m,\u001b[0m \u001b[0;36m1\u001b[0m\u001b[0;34m]\u001b[0m\u001b[0;34m\u001b[0m\u001b[0;34m\u001b[0m\u001b[0m\n\u001b[1;32m     38\u001b[0m \u001b[0mavaliar_cortes\u001b[0m\u001b[0;34m(\u001b[0m\u001b[0my_test\u001b[0m\u001b[0;34m.\u001b[0m\u001b[0mvalues\u001b[0m\u001b[0;34m,\u001b[0m \u001b[0my_prob\u001b[0m\u001b[0;34m,\u001b[0m \u001b[0mcorte_neg\u001b[0m\u001b[0;34m=\u001b[0m\u001b[0;36m0.3\u001b[0m\u001b[0;34m,\u001b[0m \u001b[0mcorte_pos\u001b[0m\u001b[0;34m=\u001b[0m\u001b[0;36m0.7\u001b[0m\u001b[0;34m)\u001b[0m\u001b[0;34m\u001b[0m\u001b[0;34m\u001b[0m\u001b[0m\n",
            "\u001b[0;31mNameError\u001b[0m: name 'best_rf' is not defined"
          ]
        }
      ]
    },
    {
      "cell_type": "markdown",
      "source": [],
      "metadata": {
        "id": "G1j3Fk2T1mQs"
      }
    },
    {
      "cell_type": "code",
      "source": [],
      "metadata": {
        "id": "wkbfeKmm1mtD"
      },
      "execution_count": null,
      "outputs": []
    },
    {
      "cell_type": "markdown",
      "source": [],
      "metadata": {
        "id": "sxkMLwBS1nGr"
      }
    },
    {
      "cell_type": "code",
      "source": [],
      "metadata": {
        "id": "xiB13z931ngb"
      },
      "execution_count": null,
      "outputs": []
    },
    {
      "cell_type": "markdown",
      "source": [],
      "metadata": {
        "id": "K-cPKJcK1n8r"
      }
    }
  ]
}